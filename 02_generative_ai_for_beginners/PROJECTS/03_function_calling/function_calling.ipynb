{
  "cells": [
    {
      "cell_type": "code",
      "execution_count": 1,
      "metadata": {
        "collapsed": true,
        "id": "n00AqZIF0K7L"
      },
      "outputs": [],
      "source": [
        "!pip install -qU langchain langchain_community langchain_google_genai google-generativeai"
      ]
    },
    {
      "cell_type": "code",
      "execution_count": 2,
      "metadata": {
        "id": "rbnjuid-57jP"
      },
      "outputs": [],
      "source": [
        "from google.colab import userdata\n",
        "import os\n",
        "\n",
        "os.environ['GOOGLE_API_KEY'] = userdata.get('GOOGLE_API_KEY')\n"
      ]
    },
    {
      "cell_type": "code",
      "execution_count": 3,
      "metadata": {
        "colab": {
          "base_uri": "https://localhost:8080/"
        },
        "id": "CKv537eq5ut3",
        "outputId": "f7f15f69-0ed4-4b06-9f2b-e1a5e5cdaee6"
      },
      "outputs": [
        {
          "output_type": "execute_result",
          "data": {
            "text/plain": [
              "AIMessage(content='Hi there! How can I help you today?', additional_kwargs={}, response_metadata={'prompt_feedback': {'block_reason': 0, 'safety_ratings': []}, 'finish_reason': 'STOP', 'safety_ratings': [{'category': 'HARM_CATEGORY_HATE_SPEECH', 'probability': 'NEGLIGIBLE', 'blocked': False}, {'category': 'HARM_CATEGORY_DANGEROUS_CONTENT', 'probability': 'NEGLIGIBLE', 'blocked': False}, {'category': 'HARM_CATEGORY_HARASSMENT', 'probability': 'NEGLIGIBLE', 'blocked': False}, {'category': 'HARM_CATEGORY_SEXUALLY_EXPLICIT', 'probability': 'NEGLIGIBLE', 'blocked': False}]}, id='run-ff960e07-abf1-49bd-a876-1d5ef908c880-0', usage_metadata={'input_tokens': 2, 'output_tokens': 11, 'total_tokens': 13, 'input_token_details': {'cache_read': 0}})"
            ]
          },
          "metadata": {},
          "execution_count": 3
        }
      ],
      "source": [
        "from langchain_google_genai import ChatGoogleGenerativeAI\n",
        "\n",
        "llm=ChatGoogleGenerativeAI(model='gemini-2.0-flash-exp',verbose=True)\n",
        "\n",
        "llm.invoke(\"Hi\")"
      ]
    },
    {
      "cell_type": "code",
      "source": [
        "students_data = [\n",
        "    {\"id\": 1, \"name\": \"Ali Khan\", \"father_name\": \"Ahmed Khan\", \"batch\": \"2024-AI\", \"class\": \"AI Basics\"},\n",
        "    {\"id\": 2, \"name\": \"Sara Ahmed\", \"father_name\": \"Waqar Ahmed\", \"batch\": \"2024-DS\", \"class\": \"Data Science\"},\n",
        "    {\"id\": 3, \"name\": \"Hamza Iqbal\", \"father_name\": \"Iqbal Ahmed\", \"batch\": \"2024-AI\", \"class\": \"AI Basics\"},\n",
        "    {\"id\": 4, \"name\": \"Zara Ali\", \"father_name\": \"Tariq Ali\", \"batch\": \"2024-ML\", \"class\": \"Machine Learning\"},\n",
        "    {\"id\": 5, \"name\": \"Bilal Raza\", \"father_name\": \"Raza Ahmed\", \"batch\": \"2024-CV\", \"class\": \"Computer Vision\"},\n",
        "]"
      ],
      "metadata": {
        "id": "hnSmBWjRV1N2"
      },
      "execution_count": 4,
      "outputs": []
    },
    {
      "cell_type": "code",
      "execution_count": 65,
      "metadata": {
        "id": "x7oQfEG842f6"
      },
      "outputs": [],
      "source": [
        "from typing import List, Dict, Any, Union\n",
        "from langchain.tools import tool\n",
        "from pydantic import BaseModel, Field\n",
        "from langchain.tools.base import Tool\n",
        "\n",
        "\n",
        "\n",
        "# Function to add a new student\n",
        "@tool\n",
        "def add_student(students: List[Dict[str, Any]], student: Dict[str, Any]) -> str:\n",
        "    \"\"\"\n",
        "    Adds a new student to the list.\n",
        "    \"\"\"\n",
        "    for existing_student in students:\n",
        "        if existing_student[\"id\"] == student[\"id\"]:\n",
        "            return \"Error: Student with this ID already exists.\"\n",
        "    students.append(student)\n",
        "    return \"Student added successfully!\"\n",
        "\n",
        "# Function to retrieve all students\n",
        "@tool\n",
        "def get_all_students(students: List[Dict[str, Any]]) -> List[Dict[str, Any]]:\n",
        "    \"\"\"\n",
        "    Retrieves all student records.\n",
        "    \"\"\"\n",
        "    return students\n",
        "\n",
        "# Function to search a student by ID\n",
        "@tool\n",
        "def search_student_by_id(students: List[Dict[str, Any]], student_id: int) -> Union[Dict[str, Any], str]:\n",
        "    \"\"\"\n",
        "    Searches for a student using their ID.\n",
        "    \"\"\"\n",
        "    for student in students:\n",
        "        if student[\"id\"] == student_id:\n",
        "            return student\n",
        "    return \"Student not found!\""
      ]
    },
    {
      "cell_type": "code",
      "source": [
        "all_tools = [add_student, get_all_students, search_student_by_id]\n",
        "instructions = \"\"\"\n",
        "1. Use the provided functions to perform CRUD (Create, Read, Update, Delete) operations on student data.\n",
        "2. Ensure that student data is validated before adding or updating.\n",
        "3. Always provide meaningful error messages when an operation fails.\n",
        "4. Optimize the functions for scalability if a large dataset is used.\n",
        "5. Return data in a structured JSON format when possible.\n",
        "6. Avoid directly modifying the data structure outside the defined functions.\n",
        "\"\"\""
      ],
      "metadata": {
        "id": "R6QIMoNQY2Zb"
      },
      "execution_count": 66,
      "outputs": []
    },
    {
      "cell_type": "code",
      "execution_count": 67,
      "metadata": {
        "id": "TVplGb296KG4"
      },
      "outputs": [],
      "source": [
        "tools_list=[all_tools]\n",
        "model_with_tools = llm.bind_tools(all_tools) # Pass the tools directly"
      ]
    },
    {
      "cell_type": "code",
      "execution_count": 68,
      "metadata": {
        "id": "Ro5skDYCIKWw",
        "outputId": "12c5957e-f719-4d9c-a5e1-ae3a233250d3",
        "colab": {
          "base_uri": "https://localhost:8080/",
          "height": 373
        }
      },
      "outputs": [
        {
          "output_type": "error",
          "ename": "AttributeError",
          "evalue": "'list' object has no attribute 'is_single_input'",
          "traceback": [
            "\u001b[0;31m---------------------------------------------------------------------------\u001b[0m",
            "\u001b[0;31mAttributeError\u001b[0m                            Traceback (most recent call last)",
            "\u001b[0;32m<ipython-input-68-c15794682a54>\u001b[0m in \u001b[0;36m<cell line: 7>\u001b[0;34m()\u001b[0m\n\u001b[1;32m      5\u001b[0m \u001b[0;34m\u001b[0m\u001b[0m\n\u001b[1;32m      6\u001b[0m \u001b[0;31m# Initialize the agent\u001b[0m\u001b[0;34m\u001b[0m\u001b[0;34m\u001b[0m\u001b[0m\n\u001b[0;32m----> 7\u001b[0;31m agent = initialize_agent(\n\u001b[0m\u001b[1;32m      8\u001b[0m     \u001b[0mtools\u001b[0m\u001b[0;34m=\u001b[0m\u001b[0mtools\u001b[0m\u001b[0;34m,\u001b[0m                        \u001b[0;31m# Provide the tools\u001b[0m\u001b[0;34m\u001b[0m\u001b[0;34m\u001b[0m\u001b[0m\n\u001b[1;32m      9\u001b[0m     \u001b[0mllm\u001b[0m\u001b[0;34m=\u001b[0m\u001b[0mllm\u001b[0m\u001b[0;34m,\u001b[0m                            \u001b[0;31m# LLM for fallback\u001b[0m\u001b[0;34m\u001b[0m\u001b[0;34m\u001b[0m\u001b[0m\n",
            "\u001b[0;32m/usr/local/lib/python3.10/dist-packages/langchain_core/_api/deprecation.py\u001b[0m in \u001b[0;36mwarning_emitting_wrapper\u001b[0;34m(*args, **kwargs)\u001b[0m\n\u001b[1;32m    180\u001b[0m                 \u001b[0mwarned\u001b[0m \u001b[0;34m=\u001b[0m \u001b[0;32mTrue\u001b[0m\u001b[0;34m\u001b[0m\u001b[0;34m\u001b[0m\u001b[0m\n\u001b[1;32m    181\u001b[0m                 \u001b[0memit_warning\u001b[0m\u001b[0;34m(\u001b[0m\u001b[0;34m)\u001b[0m\u001b[0;34m\u001b[0m\u001b[0;34m\u001b[0m\u001b[0m\n\u001b[0;32m--> 182\u001b[0;31m             \u001b[0;32mreturn\u001b[0m \u001b[0mwrapped\u001b[0m\u001b[0;34m(\u001b[0m\u001b[0;34m*\u001b[0m\u001b[0margs\u001b[0m\u001b[0;34m,\u001b[0m \u001b[0;34m**\u001b[0m\u001b[0mkwargs\u001b[0m\u001b[0;34m)\u001b[0m\u001b[0;34m\u001b[0m\u001b[0;34m\u001b[0m\u001b[0m\n\u001b[0m\u001b[1;32m    183\u001b[0m \u001b[0;34m\u001b[0m\u001b[0m\n\u001b[1;32m    184\u001b[0m         \u001b[0;32masync\u001b[0m \u001b[0;32mdef\u001b[0m \u001b[0mawarning_emitting_wrapper\u001b[0m\u001b[0;34m(\u001b[0m\u001b[0;34m*\u001b[0m\u001b[0margs\u001b[0m\u001b[0;34m:\u001b[0m \u001b[0mAny\u001b[0m\u001b[0;34m,\u001b[0m \u001b[0;34m**\u001b[0m\u001b[0mkwargs\u001b[0m\u001b[0;34m:\u001b[0m \u001b[0mAny\u001b[0m\u001b[0;34m)\u001b[0m \u001b[0;34m->\u001b[0m \u001b[0mAny\u001b[0m\u001b[0;34m:\u001b[0m\u001b[0;34m\u001b[0m\u001b[0;34m\u001b[0m\u001b[0m\n",
            "\u001b[0;32m/usr/local/lib/python3.10/dist-packages/langchain/agents/initialize.py\u001b[0m in \u001b[0;36minitialize_agent\u001b[0;34m(tools, llm, agent, callback_manager, agent_path, agent_kwargs, tags, **kwargs)\u001b[0m\n\u001b[1;32m     71\u001b[0m         \u001b[0magent_cls\u001b[0m \u001b[0;34m=\u001b[0m \u001b[0mAGENT_TO_CLASS\u001b[0m\u001b[0;34m[\u001b[0m\u001b[0magent\u001b[0m\u001b[0;34m]\u001b[0m\u001b[0;34m\u001b[0m\u001b[0;34m\u001b[0m\u001b[0m\n\u001b[1;32m     72\u001b[0m         \u001b[0magent_kwargs\u001b[0m \u001b[0;34m=\u001b[0m \u001b[0magent_kwargs\u001b[0m \u001b[0;32mor\u001b[0m \u001b[0;34m{\u001b[0m\u001b[0;34m}\u001b[0m\u001b[0;34m\u001b[0m\u001b[0;34m\u001b[0m\u001b[0m\n\u001b[0;32m---> 73\u001b[0;31m         agent_obj = agent_cls.from_llm_and_tools(\n\u001b[0m\u001b[1;32m     74\u001b[0m             \u001b[0mllm\u001b[0m\u001b[0;34m,\u001b[0m \u001b[0mtools\u001b[0m\u001b[0;34m,\u001b[0m \u001b[0mcallback_manager\u001b[0m\u001b[0;34m=\u001b[0m\u001b[0mcallback_manager\u001b[0m\u001b[0;34m,\u001b[0m \u001b[0;34m**\u001b[0m\u001b[0magent_kwargs\u001b[0m\u001b[0;34m\u001b[0m\u001b[0;34m\u001b[0m\u001b[0m\n\u001b[1;32m     75\u001b[0m         )\n",
            "\u001b[0;32m/usr/local/lib/python3.10/dist-packages/langchain/agents/mrkl/base.py\u001b[0m in \u001b[0;36mfrom_llm_and_tools\u001b[0;34m(cls, llm, tools, callback_manager, output_parser, prefix, suffix, format_instructions, input_variables, **kwargs)\u001b[0m\n\u001b[1;32m    136\u001b[0m             \u001b[0mkwargs\u001b[0m\u001b[0;34m:\u001b[0m \u001b[0mAdditional\u001b[0m \u001b[0mparameters\u001b[0m \u001b[0mto\u001b[0m \u001b[0;32mpass\u001b[0m \u001b[0mto\u001b[0m \u001b[0mthe\u001b[0m \u001b[0magent\u001b[0m\u001b[0;34m.\u001b[0m\u001b[0;34m\u001b[0m\u001b[0;34m\u001b[0m\u001b[0m\n\u001b[1;32m    137\u001b[0m         \"\"\"\n\u001b[0;32m--> 138\u001b[0;31m         \u001b[0mcls\u001b[0m\u001b[0;34m.\u001b[0m\u001b[0m_validate_tools\u001b[0m\u001b[0;34m(\u001b[0m\u001b[0mtools\u001b[0m\u001b[0;34m)\u001b[0m\u001b[0;34m\u001b[0m\u001b[0;34m\u001b[0m\u001b[0m\n\u001b[0m\u001b[1;32m    139\u001b[0m         prompt = cls.create_prompt(\n\u001b[1;32m    140\u001b[0m             \u001b[0mtools\u001b[0m\u001b[0;34m,\u001b[0m\u001b[0;34m\u001b[0m\u001b[0;34m\u001b[0m\u001b[0m\n",
            "\u001b[0;32m/usr/local/lib/python3.10/dist-packages/langchain/agents/mrkl/base.py\u001b[0m in \u001b[0;36m_validate_tools\u001b[0;34m(cls, tools)\u001b[0m\n\u001b[1;32m    160\u001b[0m     \u001b[0;34m@\u001b[0m\u001b[0mclassmethod\u001b[0m\u001b[0;34m\u001b[0m\u001b[0;34m\u001b[0m\u001b[0m\n\u001b[1;32m    161\u001b[0m     \u001b[0;32mdef\u001b[0m \u001b[0m_validate_tools\u001b[0m\u001b[0;34m(\u001b[0m\u001b[0mcls\u001b[0m\u001b[0;34m,\u001b[0m \u001b[0mtools\u001b[0m\u001b[0;34m:\u001b[0m \u001b[0mSequence\u001b[0m\u001b[0;34m[\u001b[0m\u001b[0mBaseTool\u001b[0m\u001b[0;34m]\u001b[0m\u001b[0;34m)\u001b[0m \u001b[0;34m->\u001b[0m \u001b[0;32mNone\u001b[0m\u001b[0;34m:\u001b[0m\u001b[0;34m\u001b[0m\u001b[0;34m\u001b[0m\u001b[0m\n\u001b[0;32m--> 162\u001b[0;31m         \u001b[0mvalidate_tools_single_input\u001b[0m\u001b[0;34m(\u001b[0m\u001b[0mcls\u001b[0m\u001b[0;34m.\u001b[0m\u001b[0m__name__\u001b[0m\u001b[0;34m,\u001b[0m \u001b[0mtools\u001b[0m\u001b[0;34m)\u001b[0m\u001b[0;34m\u001b[0m\u001b[0;34m\u001b[0m\u001b[0m\n\u001b[0m\u001b[1;32m    163\u001b[0m         \u001b[0;32mif\u001b[0m \u001b[0mlen\u001b[0m\u001b[0;34m(\u001b[0m\u001b[0mtools\u001b[0m\u001b[0;34m)\u001b[0m \u001b[0;34m==\u001b[0m \u001b[0;36m0\u001b[0m\u001b[0;34m:\u001b[0m\u001b[0;34m\u001b[0m\u001b[0;34m\u001b[0m\u001b[0m\n\u001b[1;32m    164\u001b[0m             raise ValueError(\n",
            "\u001b[0;32m/usr/local/lib/python3.10/dist-packages/langchain/agents/utils.py\u001b[0m in \u001b[0;36mvalidate_tools_single_input\u001b[0;34m(class_name, tools)\u001b[0m\n\u001b[1;32m     15\u001b[0m     \"\"\"\n\u001b[1;32m     16\u001b[0m     \u001b[0;32mfor\u001b[0m \u001b[0mtool\u001b[0m \u001b[0;32min\u001b[0m \u001b[0mtools\u001b[0m\u001b[0;34m:\u001b[0m\u001b[0;34m\u001b[0m\u001b[0;34m\u001b[0m\u001b[0m\n\u001b[0;32m---> 17\u001b[0;31m         \u001b[0;32mif\u001b[0m \u001b[0;32mnot\u001b[0m \u001b[0mtool\u001b[0m\u001b[0;34m.\u001b[0m\u001b[0mis_single_input\u001b[0m\u001b[0;34m:\u001b[0m\u001b[0;34m\u001b[0m\u001b[0;34m\u001b[0m\u001b[0m\n\u001b[0m\u001b[1;32m     18\u001b[0m             raise ValueError(\n\u001b[1;32m     19\u001b[0m                 \u001b[0;34mf\"{class_name} does not support multi-input tool {tool.name}.\"\u001b[0m\u001b[0;34m\u001b[0m\u001b[0;34m\u001b[0m\u001b[0m\n",
            "\u001b[0;31mAttributeError\u001b[0m: 'list' object has no attribute 'is_single_input'"
          ]
        }
      ],
      "source": [
        "from langchain.agents import initialize_agent, AgentType\n",
        "\n",
        "# List of tools\n",
        "tools = tools_list  # Use the original list of tools\n",
        "\n",
        "# Initialize the agent\n",
        "agent = initialize_agent(\n",
        "    tools=tools,                        # Provide the tools\n",
        "    llm=llm,                            # LLM for fallback\n",
        "    agent=AgentType.ZERO_SHOT_REACT_DESCRIPTION,  # Agent type\n",
        "    verbose=True                        # Enable debugging output\n",
        ")"
      ]
    },
    {
      "cell_type": "code",
      "execution_count": null,
      "metadata": {
        "colab": {
          "background_save": true,
          "base_uri": "https://localhost:8080/"
        },
        "id": "PlWvwNqVIO5Y",
        "outputId": "7f138385-e49e-424a-c231-d3eed966bd5d"
      },
      "outputs": [
        {
          "name": "stderr",
          "output_type": "stream",
          "text": [
            "<ipython-input-11-4661abfb96ad>:2: LangChainDeprecationWarning: The method `Chain.run` was deprecated in langchain 0.1.0 and will be removed in 1.0. Use :meth:`~invoke` instead.\n",
            "  response1 = agent.run(\"What is 10 + 20?\")  # Uses the tool\n"
          ]
        },
        {
          "name": "stdout",
          "output_type": "stream",
          "text": [
            "\n",
            "\n",
            "\u001b[1m> Entering new AgentExecutor chain...\u001b[0m\n",
            "\u001b[32;1m\u001b[1;3mQuestion: What is 10 + 20?\n",
            "Thought: I need to add 10 and 20. I can use the AdditionTool for this.\n",
            "Action: AdditionTool\n",
            "Action Input: 10 20\u001b[0m\n",
            "Observation: \u001b[36;1m\u001b[1;3mThe result is: 30\u001b[0m\n",
            "Thought:\u001b[32;1m\u001b[1;3mQuestion: What is 10 + 20?\n",
            "Thought: I need to add 10 and 20. I can use the AdditionTool for this.\n",
            "Action: AdditionTool\n",
            "Action Input: 10 20\u001b[0m\n",
            "Observation: \u001b[36;1m\u001b[1;3mThe result is: 30\u001b[0m\n",
            "Thought:\u001b[32;1m\u001b[1;3mQuestion: What is 10 + 20?\n",
            "Thought: I need to add 10 and 20. I can use the AdditionTool for this.\n",
            "Action: AdditionTool\n",
            "Action Input: 10 20\u001b[0m\n",
            "Observation: \u001b[36;1m\u001b[1;3mThe result is: 30\u001b[0m\n",
            "Thought:\u001b[32;1m\u001b[1;3mQuestion: What is 10 + 20?\n",
            "Thought: I need to add 10 and 20. I can use the AdditionTool for this.\n",
            "Action: AdditionTool\n",
            "Action Input: 10 20\u001b[0m\n",
            "Observation: \u001b[36;1m\u001b[1;3mThe result is: 30\u001b[0m\n",
            "Thought:\u001b[32;1m\u001b[1;3mQuestion: What is 10 + 20?\n",
            "Thought: I need to add 10 and 20. I can use the AdditionTool for this.\n",
            "Action: AdditionTool\n",
            "Action Input: 10 20\u001b[0m\n",
            "Observation: \u001b[36;1m\u001b[1;3mThe result is: 30\u001b[0m\n",
            "Thought:\u001b[32;1m\u001b[1;3mQuestion: What is 10 + 20?\n",
            "Thought: I need to add 10 and 20. I can use the AdditionTool for this.\n",
            "Action: AdditionTool\n",
            "Action Input: 10 20\u001b[0m\n",
            "Observation: \u001b[36;1m\u001b[1;3mThe result is: 30\u001b[0m\n",
            "Thought:\u001b[32;1m\u001b[1;3mQuestion: What is 10 + 20?\n",
            "Thought: I need to add 10 and 20. I can use the AdditionTool for this.\n",
            "Action: AdditionTool\n",
            "Action Input: 10 20\u001b[0m\n",
            "Observation: \u001b[36;1m\u001b[1;3mThe result is: 30\u001b[0m\n",
            "Thought:\u001b[32;1m\u001b[1;3mQuestion: What is 10 + 20?\n",
            "Thought: I need to add 10 and 20. I can use the AdditionTool for this.\n",
            "Action: AdditionTool\n",
            "Action Input: 10 20\u001b[0m\n",
            "Observation: \u001b[36;1m\u001b[1;3mThe result is: 30\u001b[0m\n",
            "Thought:\u001b[32;1m\u001b[1;3mQuestion: What is 10 + 20?\n",
            "Thought: I need to add 10 and 20. I can use the AdditionTool for this.\n",
            "Action: AdditionTool\n",
            "Action Input: 10 20\u001b[0m\n",
            "Observation: \u001b[36;1m\u001b[1;3mThe result is: 30\u001b[0m\n",
            "Thought:\u001b[32;1m\u001b[1;3mQuestion: What is 10 + 20?\n",
            "Thought: I need to add 10 and 20. I can use the AdditionTool for this.\n",
            "Action: AdditionTool\n",
            "Action Input: 10 20\u001b[0m\n",
            "Observation: \u001b[36;1m\u001b[1;3mThe result is: 30\u001b[0m\n",
            "Thought:\u001b[32;1m\u001b[1;3mQuestion: What is 10 + 20?\n",
            "Thought: I need to add 10 and 20. I can use the AdditionTool for this.\n",
            "Action: AdditionTool\n",
            "Action Input: 10 20\u001b[0m\n",
            "Observation: \u001b[36;1m\u001b[1;3mThe result is: 30\u001b[0m\n",
            "Thought:\u001b[32;1m\u001b[1;3mQuestion: What is 10 + 20?\n",
            "Thought: I need to add 10 and 20. I can use the AdditionTool for this.\n",
            "Action: AdditionTool\n",
            "Action Input: 10 20\u001b[0m\n",
            "Observation: \u001b[36;1m\u001b[1;3mThe result is: 30\u001b[0m\n",
            "Thought:\u001b[32;1m\u001b[1;3mQuestion: What is 10 + 20?\n",
            "Thought: I need to add 10 and 20. I can use the AdditionTool for this.\n",
            "Action: AdditionTool\n",
            "Action Input: 10 20\u001b[0m\n",
            "Observation: \u001b[36;1m\u001b[1;3mThe result is: 30\u001b[0m\n",
            "Thought:\u001b[32;1m\u001b[1;3mThought: I need to add 10 and 20. I can use the AdditionTool for this.\n",
            "Action: AdditionTool\n",
            "Action Input: 10 20\u001b[0m\n",
            "Observation: \u001b[36;1m\u001b[1;3mThe result is: 30\u001b[0m\n",
            "Thought:\u001b[32;1m\u001b[1;3mQuestion: What is 10 + 20?\n",
            "Thought: I need to add 10 and 20. I can use the AdditionTool for this.\n",
            "Action: AdditionTool\n",
            "Action Input: 10 20\u001b[0m\n",
            "Observation: \u001b[36;1m\u001b[1;3mThe result is: 30\u001b[0m\n",
            "Thought:\u001b[32;1m\u001b[1;3m\u001b[0m\n",
            "\n",
            "\u001b[1m> Finished chain.\u001b[0m\n",
            "Agent stopped due to iteration limit or time limit.\n"
          ]
        }
      ],
      "source": [
        "# Query the agent\n",
        "response1 = agent.run(\"What is 10 + 20?\")  # Uses the tool\n",
        "print(response1)\n",
        "\n"
      ]
    }
  ],
  "metadata": {
    "colab": {
      "provenance": []
    },
    "kernelspec": {
      "display_name": "Python 3",
      "name": "python3"
    },
    "language_info": {
      "name": "python"
    }
  },
  "nbformat": 4,
  "nbformat_minor": 0
}